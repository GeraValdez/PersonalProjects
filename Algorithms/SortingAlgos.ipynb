{
 "cells": [
  {
   "cell_type": "markdown",
   "metadata": {},
   "source": [
    "# Sorting Algorithms\n",
    "\n",
    "\n",
    "This document contains my own implementation of the most popular sorting algorithms:\n",
    "\n",
    "* shuffleSort     -  Time Complexity: O(n!)        \n",
    "* selectionSort   -  Time Complexity: O(n^2)       \n",
    "* bubbleSort      -  Time Complexity: O(n^2)       \n",
    "* insertionSort   -  Time Complexity: O(n^2)       \n",
    "* heapSort        -  Time Complexity: O(n * log n)   \n",
    "* quickSort       -  Time Complexity: O(n * log n)   \n",
    "* mergeSort       -  Time Complexity: O(n * log n)   \n",
    "* countingSort    -  Time Complexity: O(n)         "
   ]
  },
  {
   "cell_type": "code",
   "execution_count": 1,
   "metadata": {},
   "outputs": [],
   "source": [
    "import random\n",
    "import numpy as np\n",
    "from collections import Counter"
   ]
  },
  {
   "cell_type": "code",
   "execution_count": 2,
   "metadata": {},
   "outputs": [],
   "source": [
    "lst = [9,1,2,3,8,7,6,4,5]"
   ]
  },
  {
   "cell_type": "code",
   "execution_count": 3,
   "metadata": {},
   "outputs": [],
   "source": [
    "def is_sorted(array):\n",
    "    ''' Iterate through the array. Ensure that the next element >= previous element '''\n",
    "    for i in range(len(array)-1):\n",
    "        if array[i+1] < array[i]:\n",
    "            return False\n",
    "    return True"
   ]
  },
  {
   "cell_type": "code",
   "execution_count": 4,
   "metadata": {},
   "outputs": [],
   "source": [
    "def shuffleSort(array):\n",
    "    ''' Check if array is sorted. Else, shuffle again until sorted '''\n",
    "    if is_sorted(array):\n",
    "        return array\n",
    "    else:\n",
    "        while not is_sorted(array):\n",
    "            random.shuffle(array)\n",
    "        return array"
   ]
  },
  {
   "cell_type": "code",
   "execution_count": 5,
   "metadata": {},
   "outputs": [],
   "source": [
    "def selectionSort(array):\n",
    "    ''' The array consists of two subarrays. Initially one is empty and the other contains all elements.\n",
    "    Iterate through the array to find the smallest element. Send the smallest element to the end of the\n",
    "    originally empty subarray. Repeat this process n-1 times until the subarray is sorted and full '''\n",
    "    index, smallest, sub_array = 0, np.inf, 0\n",
    "    for _ in range(len(array)):\n",
    "        for i in range(sub_array, len(array)):  #Iterate through the array\n",
    "            if array[i] < smallest:\n",
    "                index, smallest = i, array[i]   #Keep track of the smallest element\n",
    "        array[sub_array], array[index] = array[index], array[sub_array]  #Store next smallest element\n",
    "        sub_array += 1 \n",
    "        index, smallest = sub_array, np.inf\n",
    "    return array"
   ]
  },
  {
   "cell_type": "code",
   "execution_count": 6,
   "metadata": {},
   "outputs": [],
   "source": [
    "def bubbleSort(array):\n",
    "    ''' Iterate through the array. If the next element is smaller, swap them. After every loop, the next\n",
    "    largest element will reach its appropriate position. In n-1 iterations, the array will be sorted '''\n",
    "    for j in range(len(array)):\n",
    "        for i in range(len(array)-1-j):\n",
    "            if array[i] > array[i+1]:\n",
    "                array[i], array[i+1] = array[i+1], array[i]\n",
    "    return array"
   ]
  },
  {
   "cell_type": "code",
   "execution_count": 7,
   "metadata": {},
   "outputs": [],
   "source": [
    "def insertionSort(array):\n",
    "    '''  The array consists of two subarrays. Initially one is empty and the other contains all elements.\n",
    "    Every iteration we take the first element of the second subarray, and we will iterate through the \n",
    "    first subarray until we find the right position and insert it accordingly '''\n",
    "    def find_position(array):\n",
    "        ''' Asuming that the array is sorted except for the last element, return \n",
    "        the index  where we should store the last element in the array '''\n",
    "        if array[-1] < array[-2]:\n",
    "            pointer = len(array) - 2\n",
    "            while pointer >= 0:\n",
    "                if array[pointer] < array[-1]:\n",
    "                    return pointer + 1\n",
    "                else:\n",
    "                    pointer += -1\n",
    "            return 0\n",
    "        return -1\n",
    "    for i in range(2,len(array)+1):             #for every possible subarray\n",
    "        index = find_position(array[:i])        #find the right position of the last element in the subarray\n",
    "        if index >= 0:\n",
    "            array.insert(index, array.pop(i-1))\n",
    "    return array"
   ]
  },
  {
   "cell_type": "code",
   "execution_count": 8,
   "metadata": {},
   "outputs": [],
   "source": [
    "def heapSort(array):\n",
    "    '''  The array consists of two subarrays. Initially one is empty and the other contains all elements.\n",
    "    Take the first subarray and convert it to a max heap. Keep popping the next largest element, and store \n",
    "    it at the beginning of the second subarray. After n iterations, the array will be sorted '''\n",
    "    size = len(array)\n",
    "    def heapify(array):\n",
    "        ''' Convert a regular array into a max heap '''\n",
    "        root, size = 0, len(array)-1\n",
    "        if size == 0:\n",
    "            return array\n",
    "        while size >= root*2+1: #for every parent node\n",
    "            try:\n",
    "                if array[root*2+1] > array[root] or array[root*2+2] > array[root]: #if child node > parent node\n",
    "                    if array[root*2+2] > array[root*2+1]:\n",
    "                        array[root*2+2], array[root] = array[root], array[root*2+2] #swap them\n",
    "                    else:\n",
    "                        array[root*2+1], array[root] = array[root], array[root*2+1]\n",
    "            except: #if parent node has only one child node, the try statement above will raise an exception\n",
    "                if array[root*2+1] > array[root]:   \n",
    "                    array[root*2+1], array[root] = array[root], array[root*2+1]\n",
    "            root += 1\n",
    "        return array\n",
    "    for i in range(len(array)):                               #Iterate through the array\n",
    "        array = heapify(array[:size-i]) + array[size-i:]      #array equals max heap + sorted subarray\n",
    "        array[0], array[size-i-1] = array[size-i-1], array[0] #\"pop\" the next greatest value, store in subarray\n",
    "    return array"
   ]
  },
  {
   "cell_type": "code",
   "execution_count": 9,
   "metadata": {},
   "outputs": [],
   "source": [
    "def quickSort(array):\n",
    "    ''' Pick first element as pivot. Iterate through the array and leave any elements smaller than the \n",
    "    pivot to its left, and any larger elements to its right. If the array contains 2 or fewer elements \n",
    "    return the sorted array. Else, keep calling quickSort recursively and concatenate the results '''\n",
    "    pivot = 0\n",
    "    if len(array) <= 1: #if len(array) <= 2, return the sorted array\n",
    "        return array\n",
    "    if len(array) == 2:\n",
    "        if array[0] > array[1]:\n",
    "            array[0], array[1] = array[1], array[0]\n",
    "            return array\n",
    "        else:\n",
    "            return array\n",
    "    for i in range(1, len(array)):\n",
    "        if array[i] < array[pivot]:\n",
    "            array.insert(0, array.pop(i))\n",
    "            pivot += 1\n",
    "    #break array in two, call quickSort recursively, and concatenate the results\n",
    "    return quickSort(array[:pivot]) + [array[pivot]] + quickSort(array[pivot+1:])"
   ]
  },
  {
   "cell_type": "code",
   "execution_count": 10,
   "metadata": {},
   "outputs": [],
   "source": [
    "def mergeSort(array):\n",
    "    ''' If the array contains 2 or fewer elements return the sorted array. Else, keep partitioning the \n",
    "    array in half and call mergeSort recursively. Concatenate the resulting lists accordingly '''\n",
    "    if len(array) <= 1:  #if len(array) <= 2, return the sorted array\n",
    "        return array\n",
    "    if len(array) == 2:\n",
    "        if array[0] > array[1]:\n",
    "            array[0], array[1] = array[1], array[0]\n",
    "            return array\n",
    "        else:\n",
    "            return array\n",
    "\n",
    "    left, right = array[:int(len(array)/2)], array[int(len(array)/2):] #split the array in two\n",
    "    \n",
    "    def merge(left, right):\n",
    "        ''' Merge two sorted lists '''\n",
    "        sorted_list = []\n",
    "        while len(left) > 0 and len(right) > 0:\n",
    "            if left[0] > right[0]:\n",
    "                sorted_list.append(right.pop(0))\n",
    "            else:\n",
    "                sorted_list.append(left.pop(0))\n",
    "        if len(left) > 0:\n",
    "            sorted_list += left\n",
    "        if len(right) > 0:\n",
    "            sorted_list += right\n",
    "        return sorted_list\n",
    "    \n",
    "    return merge(mergeSort(left), mergeSort(right))  #use recursion, and keep merging the sorted lists"
   ]
  },
  {
   "cell_type": "code",
   "execution_count": 11,
   "metadata": {},
   "outputs": [],
   "source": [
    "#Inspired by GeeksforGeeks's YouTube video: https://www.youtube.com/watch?v=7zuGmKfUt7s\n",
    "\n",
    "def countingSort(array):\n",
    "    m, cnt, index, output = max(array), Counter(), [], [0 for _ in range(len(array))]\n",
    "    for i in range(0, m+1): #initialize the counter\n",
    "        cnt[i] = 0\n",
    "    for i in range(len(array)): #count frequency of elements\n",
    "        cnt[array[i]] += 1\n",
    "    for i in range(m+1): #fill and sum the indexes\n",
    "        if i == 0:\n",
    "            index.append(cnt[0])\n",
    "        else:\n",
    "            index.append(index[i-1] + cnt[i])\n",
    "    for i in range(len(array)): #place elements in their appropriate position\n",
    "        output[index[array[i]]-1] = array[i]\n",
    "    return output"
   ]
  },
  {
   "cell_type": "markdown",
   "metadata": {},
   "source": [
    "## Test Cases"
   ]
  },
  {
   "cell_type": "code",
   "execution_count": 12,
   "metadata": {},
   "outputs": [],
   "source": [
    "import time\n",
    "import matplotlib.pyplot as plt"
   ]
  },
  {
   "cell_type": "code",
   "execution_count": 13,
   "metadata": {},
   "outputs": [],
   "source": [
    "class Sim():\n",
    "    def __init__(self, array_length):\n",
    "        self.array = []\n",
    "        self.array_length = array_length\n",
    "        self.time_selection, self.time_bubble, self.time_insertion, self.time_heap = [], [], [], []\n",
    "        self.time_quick, self.time_merge, self.time_count, self.time_sort = [], [], [], []\n",
    "        \n",
    "    def fillData(self):\n",
    "        ''' Create 10 arrays of length i. Calculate the time it takes to sort them using different \n",
    "        methods. Take the average time, and store it. Repeat this for i in range(array_length) '''\n",
    "        for i in range(1, int(self.array_length/2)+1):\n",
    "            self.array = [[random.randint(0,1000) for _ in range(2*i)] for x in range(10)]\n",
    "            self.selection()\n",
    "            self.bubble()\n",
    "            self.insertion()\n",
    "            self.heap()\n",
    "            self.quick()\n",
    "            self.merge()\n",
    "            self.counting()\n",
    "            self.sort_array()\n",
    "        \n",
    "    def sort_array(self):\n",
    "        ''' Calculate the time it takes to sort 10 arrays using Python's sort method. Store the average '''\n",
    "        array = []\n",
    "        for i in range(10): #Python's Sort Method\n",
    "            start = time.time()\n",
    "            self.array[i].sort()\n",
    "            end = time.time()\n",
    "            array.append(end-start)\n",
    "        self.time_sort.append(sum(array)/10) #average\n",
    "    \n",
    "    def selection(self):\n",
    "        ''' Calculate the time it takes to sort 10 arrays using selectionSort. Store the average '''\n",
    "        array = []\n",
    "        for i in range(10): #selectionSort\n",
    "            start = time.time()\n",
    "            selectionSort(self.array[i])\n",
    "            end = time.time()\n",
    "            array.append(end-start)\n",
    "        self.time_selection.append(sum(array)/10) #average\n",
    "            \n",
    "    def bubble(self):\n",
    "        ''' Calculate the time it takes to sort 10 arrays using bubbleSort. Store the average '''\n",
    "        array = []\n",
    "        for i in range(10): #bubbleSort\n",
    "            start = time.time()\n",
    "            bubbleSort(self.array[i])\n",
    "            end = time.time()\n",
    "            array.append(end-start)\n",
    "        self.time_bubble.append(sum(array)/10) #average\n",
    "            \n",
    "    def insertion(self):\n",
    "        ''' Calculate the time it takes to sort 10 arrays using insertionSort. Store the average '''\n",
    "        array = []\n",
    "        for i in range(10): #insertionSort\n",
    "            start = time.time()\n",
    "            insertionSort(self.array[i])\n",
    "            end = time.time()\n",
    "            array.append(end-start)\n",
    "        self.time_insertion.append(sum(array)/10) #average\n",
    "            \n",
    "    def heap(self):\n",
    "        ''' Calculate the time it takes to sort 10 arrays using heapSort. Store the average '''\n",
    "        array = []\n",
    "        for i in range(10): #heapSort\n",
    "            start = time.time()\n",
    "            heapSort(self.array[i])\n",
    "            end = time.time()\n",
    "            array.append(end-start)\n",
    "        self.time_heap.append(sum(array)/10) #average\n",
    "            \n",
    "    def quick(self):\n",
    "        ''' Calculate the time it takes to sort 10 arrays using quickSort. Store the average '''\n",
    "        array = []\n",
    "        for i in range(10): #quickSort\n",
    "            start = time.time()\n",
    "            quickSort(self.array[i])\n",
    "            end = time.time()\n",
    "            array.append(end-start)\n",
    "        self.time_quick.append(sum(array)/10)\n",
    "            \n",
    "    def merge(self):\n",
    "        ''' Calculate the time it takes to sort 10 arrays using mergeSort. Store the average '''\n",
    "        array = []\n",
    "        for i in range(10): #mergeSort\n",
    "            start = time.time()\n",
    "            mergeSort(self.array[i])\n",
    "            end = time.time()\n",
    "            array.append(end-start)\n",
    "        self.time_merge.append(sum(array)/10)\n",
    "            \n",
    "    def counting(self):\n",
    "        ''' Calculate the time it takes to sort 10 arrays using countingSort. Store the average '''\n",
    "        array = []\n",
    "        for i in range(10): #countingSort\n",
    "            start = time.time()\n",
    "            countingSort(self.array[i])\n",
    "            end = time.time()\n",
    "            array.append(end-start)\n",
    "        self.time_count.append(sum(array)/10)\n",
    "            \n",
    "    def graph(self):\n",
    "        x = [2*i for i in range(int(self.array_length/2))]\n",
    "        plt.plot(x, self.time_selection) #Plot time against the length of the array\n",
    "        plt.plot(x, self.time_bubble)\n",
    "        plt.plot(x, self.time_insertion)\n",
    "        plt.plot(x, self.time_heap)\n",
    "        plt.plot(x, self.time_quick)\n",
    "        plt.plot(x, self.time_merge)\n",
    "        plt.plot(x, self.time_sort)\n",
    "        plt.legend(['Selection Sort', 'Bubble Sort', 'Insertion Sort', 'Heap Sort', 'Quick Sort', 'Merge Sort', \n",
    "                    'Pythons Sort Method'])\n",
    "        plt.title('Sorting Algorithms Time Complexity')\n",
    "        plt.ylabel('Time Complexity')\n",
    "        plt.xlabel('Array Size')\n",
    "        plt.show()"
   ]
  },
  {
   "cell_type": "code",
   "execution_count": 14,
   "metadata": {},
   "outputs": [
    {
     "data": {
      "image/png": "[encoded data removed]",
      "text/plain": [
       "<Figure size 432x288 with 1 Axes>"
      ]
     },
     "metadata": {
      "needs_background": "light"
     },
     "output_type": "display_data"
    }
   ],
   "source": [
    "x = Sim(500)\n",
    "x.fillData()\n",
    "\n",
    "x.graph()"
   ]
  },
  {
   "cell_type": "markdown",
   "metadata": {},
   "source": [
    "Note: Although the theoretical time complexity for insertionSort is O(n^2) and heapSort's is O(n*log n), the practical time complexity seems to be the opposite. We can also observe that Python's in-built sort method is superior, so don't attempt to rebuild the wheel when it's not necessary."
   ]
  }
 ],
 "metadata": {
  "kernelspec": {
   "display_name": "Python 3",
   "language": "python",
   "name": "python3"
  },
  "language_info": {
   "codemirror_mode": {
    "name": "ipython",
    "version": 3
   },
   "file_extension": ".py",
   "mimetype": "text/x-python",
   "name": "python",
   "nbconvert_exporter": "python",
   "pygments_lexer": "ipython3",
   "version": "3.7.3"
  }
 },
 "nbformat": 4,
 "nbformat_minor": 2
}
