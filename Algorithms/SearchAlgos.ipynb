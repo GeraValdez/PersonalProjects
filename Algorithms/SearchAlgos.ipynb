{
 "cells": [
  {
   "cell_type": "markdown",
   "metadata": {},
   "source": [
    "# Search Algorithms\n",
    "\n",
    "* linearSearch     -  Time Complexity: O(n)\n",
    "* binarySearch     -  Time Complexity: O(log n)\n",
    "* exponentialSearch - Time Complexity: O(log2 n)\n",
    "* jumpSearch       -  Time Complexity: O(n)\n",
    "* interpolationSearch - Time Complexity: O(1)"
   ]
  },
  {
   "cell_type": "code",
   "execution_count": 1,
   "metadata": {},
   "outputs": [],
   "source": [
    "import math\n",
    "import numpy as np\n",
    "\n",
    "lst = np.linspace(1,15,8) # [1, 3, 5, 7, 9, 11, 13, 15]"
   ]
  },
  {
   "cell_type": "code",
   "execution_count": 2,
   "metadata": {},
   "outputs": [
    {
     "data": {
      "text/plain": [
       "7"
      ]
     },
     "execution_count": 2,
     "metadata": {},
     "output_type": "execute_result"
    }
   ],
   "source": [
    "def linearSearch(array, element):\n",
    "    ''' Check every element until you find what you are looking for '''\n",
    "    for i in range(len(array)):\n",
    "        if array[i] == element:\n",
    "            return i\n",
    "    return -1\n",
    "\n",
    "linearSearch(lst, 15)"
   ]
  },
  {
   "cell_type": "markdown",
   "metadata": {},
   "source": [
    "## Search Algorithms for arrays of numbers\n",
    "\n",
    "### The following algorithms require the arrays to be sorted!"
   ]
  },
  {
   "cell_type": "code",
   "execution_count": 3,
   "metadata": {},
   "outputs": [
    {
     "data": {
      "text/plain": [
       "7"
      ]
     },
     "execution_count": 3,
     "metadata": {},
     "output_type": "execute_result"
    }
   ],
   "source": [
    "def binarySearch(array, element):\n",
    "    ''' Keep dividing the window of possibilities by half in every step of the way '''\n",
    "    low, high = 0, len(array)-1\n",
    "    while high >= low:\n",
    "        index = int((low+high)/2)\n",
    "        if array[index] == element:\n",
    "            while array[index-1] == array[index]: #traverse to the left\n",
    "                index -= 1\n",
    "            return index                          #return the left most element\n",
    "        elif array[index] > element:\n",
    "            high = index - 1                      #decrease the window by half\n",
    "        elif array[index] < element:\n",
    "            low = index + 1\n",
    "    return -1\n",
    "\n",
    "binarySearch(lst, 15)"
   ]
  },
  {
   "cell_type": "code",
   "execution_count": 4,
   "metadata": {},
   "outputs": [
    {
     "data": {
      "text/plain": [
       "7"
      ]
     },
     "execution_count": 4,
     "metadata": {},
     "output_type": "execute_result"
    }
   ],
   "source": [
    "def exponentialSearch(array, element):\n",
    "    ''' Keep increasing the size of the 'jump' exponentially, then use binary search '''\n",
    "    i, size = 1, len(array)-1\n",
    "    while i < size:\n",
    "        if element > array[i]:\n",
    "            i *= 2\n",
    "        elif element == array[i]:\n",
    "            while array[i-1] == array[i]:   #traverse to the left\n",
    "                i -= 1\n",
    "            return i                        #return the left most element\n",
    "        else:\n",
    "            break\n",
    "    output = binarySearch(array[int(i/2):], element)\n",
    "    return int(i/2 + output) if output > -1 else output\n",
    "\n",
    "exponentialSearch(lst, 15)"
   ]
  },
  {
   "cell_type": "code",
   "execution_count": 5,
   "metadata": {},
   "outputs": [
    {
     "data": {
      "text/plain": [
       "7"
      ]
     },
     "execution_count": 5,
     "metadata": {},
     "output_type": "execute_result"
    }
   ],
   "source": [
    "def jumpSearch(array, jump, element):\n",
    "    ''' Check every n'th element in the array, then use binary search '''\n",
    "    i, size = 0, len(array)\n",
    "    if jump > size-1:\n",
    "        return \"Please input a jump equal or smaller than the length of the array\"\n",
    "    while array[i] > element and i < size:\n",
    "        i += jump\n",
    "    output = binarySearch(array[i:], element)\n",
    "    return int(i + output) if output > -1 else output\n",
    "\n",
    "jumpSearch(lst, 3, 15)"
   ]
  },
  {
   "cell_type": "code",
   "execution_count": 6,
   "metadata": {},
   "outputs": [
    {
     "data": {
      "text/plain": [
       "7"
      ]
     },
     "execution_count": 6,
     "metadata": {},
     "output_type": "execute_result"
    }
   ],
   "source": [
    "def interpolationSearch(array, element):\n",
    "    ''' Assuming that the array consists of equally spaced out elements, \n",
    "        then we can use math to find a given element in O(1) time '''\n",
    "    if len(array) <= 2:\n",
    "        return linearSearch(array, element)\n",
    "    index = int((element - array[0])/(array[1] - array[0]))\n",
    "    if array[index] == element:\n",
    "        return index\n",
    "    else:\n",
    "        return -1\n",
    "    \n",
    "interpolationSearch(lst, 15)"
   ]
  },
  {
   "cell_type": "markdown",
   "metadata": {},
   "source": [
    "## Search Algorithm for words\n",
    "\n",
    "The algorithms above can be retrofitted to search for words by preprocessing the list of words (sorting) and using the operator ord(), which assigns a numeric value to a string character depending on their ascii value"
   ]
  },
  {
   "cell_type": "code",
   "execution_count": 7,
   "metadata": {},
   "outputs": [
    {
     "name": "stdout",
     "output_type": "stream",
     "text": [
      "[3, 13]\n",
      "-1\n"
     ]
    }
   ],
   "source": [
    "# Knuth - Morris - Pratt (KMP) Algorithm\n",
    "# https://www.youtube.com/watch?v=4jY57Ehc14Y\n",
    "\n",
    "\n",
    "def kmpSearch(pattern, text):\n",
    "    ''' Find a pattern within text '''\n",
    "    M, N, lps, i, j = len(pattern), len(text), [0]*len(text), 0, 0\n",
    "    lpsArray(pattern, M, lps) #Find the longest pattern substring\n",
    "    output = []\n",
    "    \n",
    "    while i < N: \n",
    "        if pattern[j] == text[i]: \n",
    "            i += 1 \n",
    "            j += 1\n",
    "        else:\n",
    "            if j != 0: \n",
    "                j = lps[j-1] \n",
    "            else: \n",
    "                i += 1\n",
    "        if j == M: \n",
    "            output.append(i-j) #we could return (i-j) if we just wanted the leftmost result\n",
    "            j = lps[j-1]\n",
    "    return output if len(output) > 0 else -1\n",
    "\n",
    "def lpsArray(pattern, M, lps): \n",
    "    length = 0 \n",
    "    i = 1\n",
    "    lps[0] = 0\n",
    "    \n",
    "    while i < M: \n",
    "        if pattern[i]== pattern[length]: \n",
    "            length += 1\n",
    "            lps[i] = length\n",
    "            i += 1\n",
    "        else: \n",
    "            if length != 0: \n",
    "                length = lps[length-1] \n",
    "            else: \n",
    "                lps[i] = 0\n",
    "                i += 1\n",
    "                \n",
    "text = \"onionionsdfwlonions\"\n",
    "text2 = \"onionion\"\n",
    "pattern = \"onions\"\n",
    "\n",
    "print(kmpSearch(pattern, text))\n",
    "print(kmpSearch(pattern, text2))"
   ]
  }
 ],
 "metadata": {
  "kernelspec": {
   "display_name": "Python 3",
   "language": "python",
   "name": "python3"
  },
  "language_info": {
   "codemirror_mode": {
    "name": "ipython",
    "version": 3
   },
   "file_extension": ".py",
   "mimetype": "text/x-python",
   "name": "python",
   "nbconvert_exporter": "python",
   "pygments_lexer": "ipython3",
   "version": "3.7.3"
  }
 },
 "nbformat": 4,
 "nbformat_minor": 2
}
